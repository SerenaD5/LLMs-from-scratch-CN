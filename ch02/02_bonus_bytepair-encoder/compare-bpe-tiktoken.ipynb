{
  "cells": [
    {
      "cell_type": "markdown",
      "id": "c503e5ef-6bb4-45c3-ac49-0e016cedd8d0",
      "metadata": {
        "id": "c503e5ef-6bb4-45c3-ac49-0e016cedd8d0"
      },
      "source": [
        "<table style=\"width:100%\">\n",
        "<tr>\n",
        "<td style=\"vertical-align:middle; text-align:left;\">\n",
        "<font size=\"2\">\n",
        "Supplementary code for the <a href=\"http://mng.bz/orYv\">Build a Large Language Model From Scratch</a> book by <a href=\"https://sebastianraschka.com\">Sebastian Raschka</a><br>\n",
        "<br>Code repository: <a href=\"https://github.com/rasbt/LLMs-from-scratch\">https://github.com/rasbt/LLMs-from-scratch</a>\n",
        "<br>汉化的库: <a href=\"https://github.com/GoatCsu/CN-LLMs-from-scratch.git\">https://github.com/GoatCsu/CN-LLMs-from-scratch.git</a>\n",
        "</font>\n",
        "</td>\n",
        "<td style=\"vertical-align:middle; text-align:left;\">\n",
        "<a href=\"http://mng.bz/orYv\"><img src=\"https://sebastianraschka.com/images/LLMs-from-scratch-images/cover-small.webp\" width=\"100px\"></a>\n",
        "</td>\n",
        "</tr>\n",
        "</table>\n"
      ]
    },
    {
      "cell_type": "markdown",
      "id": "8a9e554f-58e3-4787-832d-d149add1b857",
      "metadata": {
        "id": "8a9e554f-58e3-4787-832d-d149add1b857"
      },
      "source": [
        "- 通过取消注释并运行以下单元格来安装此Notebook所需的额外软件包："
      ]
    },
    {
      "cell_type": "code",
      "execution_count": 1,
      "id": "d70bae22-b540-4a13-ab01-e748cb9d55c9",
      "metadata": {
        "id": "d70bae22-b540-4a13-ab01-e748cb9d55c9"
      },
      "outputs": [],
      "source": [
        "# pip install -r requirements-extra.txt"
      ]
    },
    {
      "cell_type": "markdown",
      "id": "737c59bb-5922-46fc-a787-1369d70925b4",
      "metadata": {
        "id": "737c59bb-5922-46fc-a787-1369d70925b4"
      },
      "source": [
        "# 比较各种字节对编码（BPE）实现"
      ]
    },
    {
      "cell_type": "markdown",
      "id": "a9adc3bf-353c-411e-a471-0e92786e7103",
      "metadata": {
        "id": "a9adc3bf-353c-411e-a471-0e92786e7103"
      },
      "source": [
        "## 使用来自 `tiktoken` 的BPE"
      ]
    },
    {
      "cell_type": "code",
      "execution_count": 2,
      "id": "1c490fca-a48a-47fa-a299-322d1a08ad17",
      "metadata": {
        "colab": {
          "base_uri": "https://localhost:8080/"
        },
        "id": "1c490fca-a48a-47fa-a299-322d1a08ad17",
        "outputId": "2be03b31-7b69-41bf-b42a-f498432c2075"
      },
      "outputs": [
        {
          "output_type": "stream",
          "name": "stdout",
          "text": [
            "tiktoken version: 0.11.0\n"
          ]
        }
      ],
      "source": [
        "from importlib.metadata import version\n",
        "\n",
        "print(\"tiktoken version:\", version(\"tiktoken\"))"
      ]
    },
    {
      "cell_type": "code",
      "execution_count": 3,
      "id": "0952667c-ce84-4f21-87db-59f52b44cec4",
      "metadata": {
        "id": "0952667c-ce84-4f21-87db-59f52b44cec4"
      },
      "outputs": [],
      "source": [
        "import tiktoken\n",
        "\n",
        "tik_tokenizer = tiktoken.get_encoding(\"gpt2\")\n",
        "\n",
        "text = \"Hello, world. Is this-- a test?\""
      ]
    },
    {
      "cell_type": "code",
      "execution_count": 4,
      "id": "b039c350-18ad-48fb-8e6a-085702dfc330",
      "metadata": {
        "colab": {
          "base_uri": "https://localhost:8080/"
        },
        "id": "b039c350-18ad-48fb-8e6a-085702dfc330",
        "outputId": "6bfa375d-55dc-47c3-f38c-7af4c03d3c02"
      },
      "outputs": [
        {
          "output_type": "stream",
          "name": "stdout",
          "text": [
            "[15496, 11, 995, 13, 1148, 428, 438, 257, 1332, 30]\n"
          ]
        }
      ],
      "source": [
        "integers = tik_tokenizer.encode(text, allowed_special={\"<|endoftext|>\"})\n",
        "\n",
        "print(integers)"
      ]
    },
    {
      "cell_type": "code",
      "execution_count": 5,
      "id": "7b152ba4-04d3-41cc-849f-adedcfb8cabb",
      "metadata": {
        "colab": {
          "base_uri": "https://localhost:8080/"
        },
        "id": "7b152ba4-04d3-41cc-849f-adedcfb8cabb",
        "outputId": "479b1424-f5cf-4671-92d1-46d2c29dce49"
      },
      "outputs": [
        {
          "output_type": "stream",
          "name": "stdout",
          "text": [
            "Hello, world. Is this-- a test?\n"
          ]
        }
      ],
      "source": [
        "strings = tik_tokenizer.decode(integers)\n",
        "\n",
        "print(strings)"
      ]
    },
    {
      "cell_type": "code",
      "execution_count": 6,
      "id": "cf148a1a-316b-43ec-b7ba-1b6d409ce837",
      "metadata": {
        "colab": {
          "base_uri": "https://localhost:8080/"
        },
        "id": "cf148a1a-316b-43ec-b7ba-1b6d409ce837",
        "outputId": "32f35009-e62c-4805-84aa-19efc4111c39"
      },
      "outputs": [
        {
          "output_type": "stream",
          "name": "stdout",
          "text": [
            "50257\n"
          ]
        }
      ],
      "source": [
        "print(tik_tokenizer.n_vocab)"
      ]
    },
    {
      "cell_type": "markdown",
      "id": "6a0b5d4f-2af9-40de-828c-063c4243e771",
      "metadata": {
        "id": "6a0b5d4f-2af9-40de-828c-063c4243e771"
      },
      "source": [
        "<br>\n",
        "&nbsp;\n",
        "\n",
        "## 使用GPT-2中使用的原始BPE实现"
      ]
    },
    {
      "cell_type": "code",
      "source": [
        "import os\n",
        "import urllib.request\n",
        "\n",
        "if not os.path.exists(\"bpe_openai_gpt2.py\"):\n",
        "    url = (\"https://raw.githubusercontent.com/rasbt/\"\n",
        "           \"LLMs-from-scratch/main/ch02/02_bonus_bytepair-encoder/\"\n",
        "           \"bpe_openai_gpt2.py\")\n",
        "    file_path = \"bpe_openai_gpt2.py\"\n",
        "    urllib.request.urlretrieve(url, file_path)"
      ],
      "metadata": {
        "id": "DGic04if5pML"
      },
      "id": "DGic04if5pML",
      "execution_count": 8,
      "outputs": []
    },
    {
      "cell_type": "code",
      "execution_count": 9,
      "id": "0903108c-65cb-4ae1-967a-2155e25349c2",
      "metadata": {
        "id": "0903108c-65cb-4ae1-967a-2155e25349c2"
      },
      "outputs": [],
      "source": [
        "from bpe_openai_gpt2 import get_encoder, download_vocab"
      ]
    },
    {
      "cell_type": "code",
      "execution_count": 10,
      "id": "35dd8d7c-8c12-4b68-941a-0fd05882dd45",
      "metadata": {
        "colab": {
          "base_uri": "https://localhost:8080/"
        },
        "id": "35dd8d7c-8c12-4b68-941a-0fd05882dd45",
        "outputId": "53176043-f283-48cf-a0d8-8b0db096746c"
      },
      "outputs": [
        {
          "output_type": "stream",
          "name": "stderr",
          "text": [
            "Fetching encoder.json: 1.04Mit [00:00, 2.31Mit/s]                                                   \n",
            "Fetching vocab.bpe: 457kit [00:00, 1.06Mit/s]                                                       \n"
          ]
        }
      ],
      "source": [
        "download_vocab()"
      ]
    },
    {
      "cell_type": "code",
      "execution_count": 11,
      "id": "1888a7a9-9c40-4fe0-99b4-ebd20aa1ffd0",
      "metadata": {
        "id": "1888a7a9-9c40-4fe0-99b4-ebd20aa1ffd0"
      },
      "outputs": [],
      "source": [
        "orig_tokenizer = get_encoder(model_name=\"gpt2_model\", models_dir=\".\")"
      ]
    },
    {
      "cell_type": "code",
      "execution_count": 12,
      "id": "2740510c-a78a-4fba-ae18-2b156ba2dfef",
      "metadata": {
        "colab": {
          "base_uri": "https://localhost:8080/"
        },
        "id": "2740510c-a78a-4fba-ae18-2b156ba2dfef",
        "outputId": "c6a5bf77-80a7-4181-fa6a-95af9d3a5551"
      },
      "outputs": [
        {
          "output_type": "stream",
          "name": "stdout",
          "text": [
            "[15496, 11, 995, 13, 1148, 428, 438, 257, 1332, 30]\n"
          ]
        }
      ],
      "source": [
        "integers = orig_tokenizer.encode(text)\n",
        "\n",
        "print(integers)"
      ]
    },
    {
      "cell_type": "code",
      "execution_count": 13,
      "id": "434d115e-990d-42ad-88dd-31323a96e10f",
      "metadata": {
        "colab": {
          "base_uri": "https://localhost:8080/"
        },
        "id": "434d115e-990d-42ad-88dd-31323a96e10f",
        "outputId": "425c9c0a-817b-4291-f0e7-25c738f946ea"
      },
      "outputs": [
        {
          "output_type": "stream",
          "name": "stdout",
          "text": [
            "Hello, world. Is this-- a test?\n"
          ]
        }
      ],
      "source": [
        "strings = orig_tokenizer.decode(integers)\n",
        "\n",
        "print(strings)"
      ]
    },
    {
      "cell_type": "markdown",
      "id": "4f63e8c6-707c-4d66-bcf8-dd790647cc86",
      "metadata": {
        "id": "4f63e8c6-707c-4d66-bcf8-dd790647cc86"
      },
      "source": [
        "<br>\n",
        "&nbsp;\n",
        "\n",
        "## 通过Hugging Face transformers使用BPE"
      ]
    },
    {
      "cell_type": "code",
      "execution_count": 14,
      "id": "e9077bf4-f91f-42ad-ab76-f3d89128510e",
      "metadata": {
        "colab": {
          "base_uri": "https://localhost:8080/",
          "height": 35
        },
        "id": "e9077bf4-f91f-42ad-ab76-f3d89128510e",
        "outputId": "869da252-b659-4822-f35d-d21a5fd8d619"
      },
      "outputs": [
        {
          "output_type": "execute_result",
          "data": {
            "text/plain": [
              "'4.55.4'"
            ],
            "application/vnd.google.colaboratory.intrinsic+json": {
              "type": "string"
            }
          },
          "metadata": {},
          "execution_count": 14
        }
      ],
      "source": [
        "import transformers\n",
        "\n",
        "transformers.__version__"
      ]
    },
    {
      "cell_type": "code",
      "execution_count": null,
      "id": "a9839137-b8ea-4a2c-85fc-9a63064cf8c8",
      "metadata": {
        "id": "a9839137-b8ea-4a2c-85fc-9a63064cf8c8"
      },
      "outputs": [],
      "source": [
        "from transformers import GPT2Tokenizer\n",
        "\n",
        "hf_tokenizer = GPT2Tokenizer.from_pretrained(\"gpt2\")"
      ]
    },
    {
      "cell_type": "code",
      "execution_count": 16,
      "id": "222cbd69-6a3d-4868-9c1f-421ffc9d5fe1",
      "metadata": {
        "colab": {
          "base_uri": "https://localhost:8080/"
        },
        "id": "222cbd69-6a3d-4868-9c1f-421ffc9d5fe1",
        "outputId": "0acc2fe3-405d-474a-9684-69bdfa971034"
      },
      "outputs": [
        {
          "output_type": "execute_result",
          "data": {
            "text/plain": [
              "[15496, 11, 995, 13, 1148, 428, 438, 257, 1332, 30]"
            ]
          },
          "metadata": {},
          "execution_count": 16
        }
      ],
      "source": [
        "hf_tokenizer(strings)[\"input_ids\"]"
      ]
    },
    {
      "cell_type": "code",
      "source": [
        "from transformers import GPT2TokenizerFast\n",
        "\n",
        "hf_tokenizer_fast = GPT2TokenizerFast.from_pretrained(\"gpt2\")"
      ],
      "metadata": {
        "id": "Bd_Runlq60M3"
      },
      "id": "Bd_Runlq60M3",
      "execution_count": 17,
      "outputs": []
    },
    {
      "cell_type": "code",
      "source": [
        "\n",
        "hf_tokenizer_fast(strings)[\"input_ids\"]"
      ],
      "metadata": {
        "colab": {
          "base_uri": "https://localhost:8080/"
        },
        "id": "zoFTgmVJ6z68",
        "outputId": "beda31ca-3ead-46ef-c481-e44b14f0ca9a"
      },
      "id": "zoFTgmVJ6z68",
      "execution_count": 18,
      "outputs": [
        {
          "output_type": "execute_result",
          "data": {
            "text/plain": [
              "[15496, 11, 995, 13, 1148, 428, 438, 257, 1332, 30]"
            ]
          },
          "metadata": {},
          "execution_count": 18
        }
      ]
    },
    {
      "cell_type": "markdown",
      "source": [
        "##Using my own from-scratch BPE tokenizer"
      ],
      "metadata": {
        "id": "2aI4j7vs7IIC"
      },
      "id": "2aI4j7vs7IIC"
    },
    {
      "cell_type": "code",
      "source": [
        "import os\n",
        "import sys\n",
        "import io\n",
        "import nbformat\n",
        "import types\n",
        "\n",
        "def import_from_notebook():\n",
        "    def import_definitions_from_notebook(fullname, names):\n",
        "        current_dir = os.getcwd()\n",
        "        path = os.path.join(current_dir, \"..\", \"05_bpe-from-scratch\", fullname + \".ipynb\")\n",
        "        path = os.path.normpath(path)\n",
        "\n",
        "        # Load the notebook\n",
        "        if not os.path.exists(path):\n",
        "            raise FileNotFoundError(f\"Notebook file not found at: {path}\")\n",
        "\n",
        "        with io.open(path, \"r\", encoding=\"utf-8\") as f:\n",
        "            nb = nbformat.read(f, as_version=4)\n",
        "\n",
        "        # Create a module to store the imported functions and classes\n",
        "        mod = types.ModuleType(fullname)\n",
        "        sys.modules[fullname] = mod\n",
        "\n",
        "        # Go through the notebook cells and only execute function or class definitions\n",
        "        for cell in nb.cells:\n",
        "            if cell.cell_type == \"code\":\n",
        "                cell_code = cell.source\n",
        "                for name in names:\n",
        "                    # Check for function or class definitions\n",
        "                    if f\"def {name}\" in cell_code or f\"class {name}\" in cell_code:\n",
        "                        exec(cell_code, mod.__dict__)\n",
        "        return mod\n",
        "\n",
        "    fullname = \"bpe-from-scratch\"\n",
        "    names = [\"BPETokenizerSimple\"]\n",
        "\n",
        "    return import_definitions_from_notebook(fullname, names)"
      ],
      "metadata": {
        "id": "LG2i5R-17H17"
      },
      "id": "LG2i5R-17H17",
      "execution_count": null,
      "outputs": []
    },
    {
      "cell_type": "code",
      "source": [
        "imported_module = import_from_notebook()\n",
        "BPETokenizerSimple = getattr(imported_module, \"BPETokenizerSimple\", None)\n",
        "\n",
        "tokenizer_gpt2 = BPETokenizerSimple()\n",
        "tokenizer_gpt2.load_vocab_and_merges_from_openai(\n",
        "    vocab_path=os.path.join(\"gpt2_model\", \"encoder.json\"),\n",
        "    bpe_merges_path=os.path.join(\"gpt2_model\", \"vocab.bpe\")\n",
        ")"
      ],
      "metadata": {
        "id": "j9HvOlz87S1-"
      },
      "id": "j9HvOlz87S1-",
      "execution_count": null,
      "outputs": []
    },
    {
      "cell_type": "code",
      "source": [
        "integers = tokenizer_gpt2.encode(text)\n",
        "\n",
        "print(integers)"
      ],
      "metadata": {
        "id": "2jr2eAzR7Ujq"
      },
      "id": "2jr2eAzR7Ujq",
      "execution_count": null,
      "outputs": []
    },
    {
      "cell_type": "markdown",
      "id": "907a1ade-3401-4f2e-9017-7f58a60cbd98",
      "metadata": {
        "id": "907a1ade-3401-4f2e-9017-7f58a60cbd98"
      },
      "source": [
        "<br>\n",
        "&nbsp;\n",
        "\n",
        "## 快速性能基准测试"
      ]
    },
    {
      "cell_type": "code",
      "source": [
        "import os##导入os库\n",
        "import urllib.request ##导入request库\n",
        "\n",
        "if not os.path.exists(\"the-verdict.txt\"):##如果文件不存在则创建，防止因文件已存在而报错\n",
        "    url = (\"https://raw.githubusercontent.com/rasbt/\"\n",
        "           \"LLMs-from-scratch/main/ch02/01_main-chapter-code/\"\n",
        "           \"the-verdict.txt\")\n",
        "    file_path = \"the-verdict.txt\"\n",
        "    urllib.request.urlretrieve(url, file_path)##从指定的地点读取文件"
      ],
      "metadata": {
        "id": "CUomVYs98e84"
      },
      "id": "CUomVYs98e84",
      "execution_count": 20,
      "outputs": []
    },
    {
      "cell_type": "code",
      "execution_count": 22,
      "id": "a61bb445-b151-4a2f-8180-d4004c503754",
      "metadata": {
        "id": "a61bb445-b151-4a2f-8180-d4004c503754"
      },
      "outputs": [],
      "source": [
        "# with open('../01_main-chapter-code/the-verdict.txt', 'r', encoding='utf-8') as f:\n",
        "#     raw_text = f.read()\n",
        "\n",
        "with open('the-verdict.txt', 'r', encoding='utf-8') as f:\n",
        "    raw_text = f.read()"
      ]
    },
    {
      "cell_type": "markdown",
      "source": [
        "### Original OpenAI GPT-2 tokenizer"
      ],
      "metadata": {
        "id": "M02IaQD58yUX"
      },
      "id": "M02IaQD58yUX"
    },
    {
      "cell_type": "code",
      "execution_count": 23,
      "id": "57f7c0a3-c1fd-4313-af34-68e78eb33653",
      "metadata": {
        "colab": {
          "base_uri": "https://localhost:8080/"
        },
        "id": "57f7c0a3-c1fd-4313-af34-68e78eb33653",
        "outputId": "8f95e23c-de9c-44d8-b361-b540b82e1968"
      },
      "outputs": [
        {
          "output_type": "stream",
          "name": "stdout",
          "text": [
            "14.7 ms ± 3.27 ms per loop (mean ± std. dev. of 7 runs, 100 loops each)\n"
          ]
        }
      ],
      "source": [
        "%timeit orig_tokenizer.encode(raw_text)"
      ]
    },
    {
      "cell_type": "markdown",
      "source": [
        "### Tiktoken OpenAI GPT-2 tokenizer"
      ],
      "metadata": {
        "id": "3t4mdJU78yqu"
      },
      "id": "3t4mdJU78yqu"
    },
    {
      "cell_type": "code",
      "execution_count": 24,
      "id": "036dd628-3591-46c9-a5ce-b20b105a8062",
      "metadata": {
        "colab": {
          "base_uri": "https://localhost:8080/"
        },
        "id": "036dd628-3591-46c9-a5ce-b20b105a8062",
        "outputId": "9d63944e-2970-4d9d-da13-43f4cdc1cfbc"
      },
      "outputs": [
        {
          "output_type": "stream",
          "name": "stdout",
          "text": [
            "2.78 ms ± 168 µs per loop (mean ± std. dev. of 7 runs, 100 loops each)\n"
          ]
        }
      ],
      "source": [
        "%timeit tik_tokenizer.encode(raw_text)"
      ]
    },
    {
      "cell_type": "markdown",
      "source": [
        "### Hugging Face OpenAI GPT-2 tokenizer"
      ],
      "metadata": {
        "id": "DHXw4j5L8y9W"
      },
      "id": "DHXw4j5L8y9W"
    },
    {
      "cell_type": "code",
      "execution_count": 25,
      "id": "b9c85b58-bfbc-465e-9a7e-477e53d55c90",
      "metadata": {
        "colab": {
          "base_uri": "https://localhost:8080/"
        },
        "id": "b9c85b58-bfbc-465e-9a7e-477e53d55c90",
        "outputId": "ddeaaf18-72d6-43d8-ba7a-691da46f8d9e"
      },
      "outputs": [
        {
          "output_type": "stream",
          "name": "stderr",
          "text": [
            "Token indices sequence length is longer than the specified maximum sequence length for this model (5145 > 1024). Running this sequence through the model will result in indexing errors\n"
          ]
        },
        {
          "output_type": "stream",
          "name": "stdout",
          "text": [
            "32.2 ms ± 1.8 ms per loop (mean ± std. dev. of 7 runs, 10 loops each)\n"
          ]
        }
      ],
      "source": [
        "%timeit hf_tokenizer(raw_text)[\"input_ids\"]"
      ]
    },
    {
      "cell_type": "code",
      "execution_count": 26,
      "id": "7117107f-22a6-46b4-a442-712d50b3ac7a",
      "metadata": {
        "colab": {
          "base_uri": "https://localhost:8080/"
        },
        "id": "7117107f-22a6-46b4-a442-712d50b3ac7a",
        "outputId": "98a6f4d4-366e-433f-eb14-4c928f618036"
      },
      "outputs": [
        {
          "output_type": "stream",
          "name": "stdout",
          "text": [
            "31.5 ms ± 1.14 ms per loop (mean ± std. dev. of 7 runs, 10 loops each)\n"
          ]
        }
      ],
      "source": [
        "%timeit hf_tokenizer(raw_text, max_length=5145, truncation=True)[\"input_ids\"]"
      ]
    },
    {
      "cell_type": "code",
      "source": [
        "%timeit hf_tokenizer_fast(raw_text)[\"input_ids\"]"
      ],
      "metadata": {
        "colab": {
          "base_uri": "https://localhost:8080/"
        },
        "id": "Y6wTg53m9BOV",
        "outputId": "a1308a67-a70d-4101-dc8e-df8e9ab5f9cf"
      },
      "id": "Y6wTg53m9BOV",
      "execution_count": 27,
      "outputs": [
        {
          "output_type": "stream",
          "name": "stderr",
          "text": [
            "Token indices sequence length is longer than the specified maximum sequence length for this model (5145 > 1024). Running this sequence through the model will result in indexing errors\n"
          ]
        },
        {
          "output_type": "stream",
          "name": "stdout",
          "text": [
            "21.9 ms ± 4.74 ms per loop (mean ± std. dev. of 7 runs, 10 loops each)\n"
          ]
        }
      ]
    },
    {
      "cell_type": "code",
      "source": [
        "%timeit hf_tokenizer_fast(raw_text, max_length=5145, truncation=True)[\"input_ids\"]"
      ],
      "metadata": {
        "colab": {
          "base_uri": "https://localhost:8080/"
        },
        "id": "bbZ9qd499A45",
        "outputId": "d636b13a-c74e-4934-e83b-9509e11a5226"
      },
      "id": "bbZ9qd499A45",
      "execution_count": 28,
      "outputs": [
        {
          "output_type": "stream",
          "name": "stdout",
          "text": [
            "19.9 ms ± 1.99 ms per loop (mean ± std. dev. of 7 runs, 100 loops each)\n"
          ]
        }
      ]
    },
    {
      "cell_type": "markdown",
      "source": [
        "### My own GPT-2 tokenizer (for educational purposes)"
      ],
      "metadata": {
        "id": "Kl8itnv_9ESs"
      },
      "id": "Kl8itnv_9ESs"
    },
    {
      "cell_type": "code",
      "source": [
        "%timeit tokenizer_gpt2.encode(raw_text)"
      ],
      "metadata": {
        "id": "8h13y-7q9EsN"
      },
      "id": "8h13y-7q9EsN",
      "execution_count": null,
      "outputs": []
    }
  ],
  "metadata": {
    "kernelspec": {
      "display_name": "Python 3 (ipykernel)",
      "language": "python",
      "name": "python3"
    },
    "language_info": {
      "codemirror_mode": {
        "name": "ipython",
        "version": 3
      },
      "file_extension": ".py",
      "mimetype": "text/x-python",
      "name": "python",
      "nbconvert_exporter": "python",
      "pygments_lexer": "ipython3",
      "version": "3.12.6"
    },
    "colab": {
      "provenance": []
    }
  },
  "nbformat": 4,
  "nbformat_minor": 5
}