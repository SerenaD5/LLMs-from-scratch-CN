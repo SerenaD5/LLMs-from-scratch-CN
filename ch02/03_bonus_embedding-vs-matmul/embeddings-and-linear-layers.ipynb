{
  "cells": [
    {
      "cell_type": "markdown",
      "id": "ec7488a4-2d2a-48eb-ad8c-534a2974154b",
      "metadata": {
        "id": "ec7488a4-2d2a-48eb-ad8c-534a2974154b"
      },
      "source": [
        "<table style=\"width:100%\">\n",
        "<tr>\n",
        "<td style=\"vertical-align:middle; text-align:left;\">\n",
        "<font size=\"2\">\n",
        "Supplementary code for the <a href=\"http://mng.bz/orYv\">Build a Large Language Model From Scratch</a> book by <a href=\"https://sebastianraschka.com\">Sebastian Raschka</a><br>\n",
        "<br>Code repository: <a href=\"https://github.com/rasbt/LLMs-from-scratch\">https://github.com/rasbt/LLMs-from-scratch</a>\n",
        "<br>汉化的库: <a href=\"https://github.com/GoatCsu/CN-LLMs-from-scratch.git\">https://github.com/GoatCsu/CN-LLMs-from-scratch.git</a>\n",
        "</font>\n",
        "</td>\n",
        "<td style=\"vertical-align:middle; text-align:left;\">\n",
        "<a href=\"http://mng.bz/orYv\"><img src=\"https://sebastianraschka.com/images/LLMs-from-scratch-images/cover-small.webp\" width=\"100px\"></a>\n",
        "</td>\n",
        "</tr>\n",
        "</table>\n"
      ]
    },
    {
      "cell_type": "markdown",
      "id": "063850ab-22b0-4838-b53a-9bb11757d9d0",
      "metadata": {
        "id": "063850ab-22b0-4838-b53a-9bb11757d9d0"
      },
      "source": [
        "# 理解嵌入层和线性层之间的区别"
      ]
    },
    {
      "cell_type": "markdown",
      "id": "0315c598-701f-46ff-8806-15813cad0e51",
      "metadata": {
        "id": "0315c598-701f-46ff-8806-15813cad0e51"
      },
      "source": [
        "- PyTorch中的嵌入层与执行矩阵乘法的线性层实现相同的功能；我们使用嵌入层的原因是计算效率\n",
        "- 我们将通过PyTorch中的代码示例一步步查看这种关系"
      ]
    },
    {
      "cell_type": "code",
      "execution_count": 1,
      "id": "061720f4-f025-4640-82a0-15098fa94cf9",
      "metadata": {
        "colab": {
          "base_uri": "https://localhost:8080/"
        },
        "id": "061720f4-f025-4640-82a0-15098fa94cf9",
        "outputId": "ba893b63-b624-4785-db8d-88e360212607"
      },
      "outputs": [
        {
          "output_type": "stream",
          "name": "stdout",
          "text": [
            "PyTorch version: 2.8.0+cu126\n"
          ]
        }
      ],
      "source": [
        "import torch\n",
        "\n",
        "print(\"PyTorch version:\", torch.__version__)"
      ]
    },
    {
      "cell_type": "markdown",
      "id": "a7895a66-7f69-4f62-9361-5c9da2eb76ef",
      "metadata": {
        "id": "a7895a66-7f69-4f62-9361-5c9da2eb76ef"
      },
      "source": [
        "<br>\n",
        "&nbsp;\n",
        "\n",
        "## Using nn.Embedding"
      ]
    },
    {
      "cell_type": "code",
      "execution_count": 2,
      "id": "cc489ea5-73db-40b9-959e-0d70cae25f40",
      "metadata": {
        "id": "cc489ea5-73db-40b9-959e-0d70cae25f40"
      },
      "outputs": [],
      "source": [
        "# 假设我们有以下三个训练样本，\n",
        "# 它们可能表示LLM上下文中的token ID\n",
        "idx = torch.tensor([2, 3, 1])\n",
        "\n",
        "# 嵌入矩阵的行数可以通过获取最大token ID + 1来确定。\n",
        "# 如果最高的token ID是3，那么我们需要4行，对应可能的\n",
        "# token ID 0、1、2、3\n",
        "num_idx = max(idx)+1\n",
        "\n",
        "# 所需的嵌入维度是一个超参数\n",
        "out_dim = 5"
      ]
    },
    {
      "cell_type": "markdown",
      "id": "93d83a6e-8543-40af-b253-fe647640bf36",
      "metadata": {
        "id": "93d83a6e-8543-40af-b253-fe647640bf36"
      },
      "source": [
        "- 如果用简单的embedding layer:"
      ]
    },
    {
      "cell_type": "code",
      "execution_count": 3,
      "id": "60a7c104-36e1-4b28-bd02-a24a1099dc66",
      "metadata": {
        "id": "60a7c104-36e1-4b28-bd02-a24a1099dc66"
      },
      "outputs": [],
      "source": [
        "# 我们使用随机种子来保证可重复性，因为\n",
        "# 嵌入层中的权重是用小的随机值初始化的\n",
        "torch.manual_seed(123)\n",
        "\n",
        "embedding = torch.nn.Embedding(num_idx, out_dim)"
      ]
    },
    {
      "cell_type": "markdown",
      "id": "dd96c00a-3297-4a50-8bfc-247aaea7e761",
      "metadata": {
        "id": "dd96c00a-3297-4a50-8bfc-247aaea7e761"
      },
      "source": [
        "我们可以快速地查看下"
      ]
    },
    {
      "cell_type": "code",
      "execution_count": 4,
      "id": "595f603e-8d2a-4171-8f94-eac8106b2e57",
      "metadata": {
        "colab": {
          "base_uri": "https://localhost:8080/"
        },
        "id": "595f603e-8d2a-4171-8f94-eac8106b2e57",
        "outputId": "5c297614-0838-470d-d9f9-3a0bfed5368e"
      },
      "outputs": [
        {
          "output_type": "execute_result",
          "data": {
            "text/plain": [
              "Parameter containing:\n",
              "tensor([[ 0.3374, -0.1778, -0.3035, -0.5880,  1.5810],\n",
              "        [ 1.3010,  1.2753, -0.2010, -0.1606, -0.4015],\n",
              "        [ 0.6957, -1.8061, -1.1589,  0.3255, -0.6315],\n",
              "        [-2.8400, -0.7849, -1.4096, -0.4076,  0.7953]], requires_grad=True)"
            ]
          },
          "metadata": {},
          "execution_count": 4
        }
      ],
      "source": [
        "embedding.weight"
      ]
    },
    {
      "cell_type": "markdown",
      "id": "c86eb562-61e2-4171-ab6e-b410a1fd5c18",
      "metadata": {
        "id": "c86eb562-61e2-4171-ab6e-b410a1fd5c18"
      },
      "source": [
        "- 然后，我们可以使用嵌入层来获取ID为1的训练样本的向量表示："
      ]
    },
    {
      "cell_type": "code",
      "execution_count": 5,
      "id": "8bbc0255-4805-4be9-9f4c-1d0d967ef9d5",
      "metadata": {
        "colab": {
          "base_uri": "https://localhost:8080/"
        },
        "id": "8bbc0255-4805-4be9-9f4c-1d0d967ef9d5",
        "outputId": "72c84fb0-936d-4605-d11d-0c9c23ea14f5"
      },
      "outputs": [
        {
          "output_type": "execute_result",
          "data": {
            "text/plain": [
              "tensor([[ 1.3010,  1.2753, -0.2010, -0.1606, -0.4015]],\n",
              "       grad_fn=<EmbeddingBackward0>)"
            ]
          },
          "metadata": {},
          "execution_count": 5
        }
      ],
      "source": [
        "embedding(torch.tensor([1]))"
      ]
    },
    {
      "cell_type": "markdown",
      "id": "6a4d47f2-4691-47b8-9855-2528b6c285c9",
      "metadata": {
        "id": "6a4d47f2-4691-47b8-9855-2528b6c285c9"
      },
      "source": [
        "- 可视化处理过的内容"
      ]
    },
    {
      "cell_type": "markdown",
      "id": "12ffd155-7190-44b1-b6b6-45b11d6fe83b",
      "metadata": {
        "id": "12ffd155-7190-44b1-b6b6-45b11d6fe83b"
      },
      "source": [
        "<img src=\"https://sebastianraschka.com/images/LLMs-from-scratch-images/bonus/embeddings-and-linear-layers/1.png\" width=\"400px\">"
      ]
    },
    {
      "cell_type": "markdown",
      "id": "87d1311b-cfb2-4afc-9e25-e4ecf35370d9",
      "metadata": {
        "id": "87d1311b-cfb2-4afc-9e25-e4ecf35370d9"
      },
      "source": [
        "- 类似地，我们可以使用嵌入层来获取ID为2的训练样本的向量表示："
      ]
    },
    {
      "cell_type": "code",
      "execution_count": 6,
      "id": "c309266a-c601-4633-9404-2e10b1cdde8c",
      "metadata": {
        "colab": {
          "base_uri": "https://localhost:8080/"
        },
        "id": "c309266a-c601-4633-9404-2e10b1cdde8c",
        "outputId": "c5e7cf97-dae4-4523-c2b8-bd2f63ccec6b"
      },
      "outputs": [
        {
          "output_type": "execute_result",
          "data": {
            "text/plain": [
              "tensor([[ 0.6957, -1.8061, -1.1589,  0.3255, -0.6315]],\n",
              "       grad_fn=<EmbeddingBackward0>)"
            ]
          },
          "metadata": {},
          "execution_count": 6
        }
      ],
      "source": [
        "embedding(torch.tensor([2]))"
      ]
    },
    {
      "cell_type": "markdown",
      "id": "7ad3b601-f68c-41b1-a28d-b624b94ef383",
      "metadata": {
        "id": "7ad3b601-f68c-41b1-a28d-b624b94ef383"
      },
      "source": [
        "<img src=\"https://sebastianraschka.com/images/LLMs-from-scratch-images/bonus/embeddings-and-linear-layers/2.png\" width=\"400px\">"
      ]
    },
    {
      "cell_type": "markdown",
      "id": "27dd54bd-85ae-4887-9c5e-3139da361cf4",
      "metadata": {
        "id": "27dd54bd-85ae-4887-9c5e-3139da361cf4"
      },
      "source": [
        "- 现在，让我们转换之前定义的所有训练样本："
      ]
    },
    {
      "cell_type": "code",
      "execution_count": 7,
      "id": "0191aa4b-f6a8-4b0d-9c36-65e82b81d071",
      "metadata": {
        "colab": {
          "base_uri": "https://localhost:8080/"
        },
        "id": "0191aa4b-f6a8-4b0d-9c36-65e82b81d071",
        "outputId": "5e248ba0-e960-4155-9845-2107841be51b"
      },
      "outputs": [
        {
          "output_type": "execute_result",
          "data": {
            "text/plain": [
              "tensor([[ 0.6957, -1.8061, -1.1589,  0.3255, -0.6315],\n",
              "        [-2.8400, -0.7849, -1.4096, -0.4076,  0.7953],\n",
              "        [ 1.3010,  1.2753, -0.2010, -0.1606, -0.4015]],\n",
              "       grad_fn=<EmbeddingBackward0>)"
            ]
          },
          "metadata": {},
          "execution_count": 7
        }
      ],
      "source": [
        "idx = torch.tensor([2, 3, 1])\n",
        "embedding(idx)"
      ]
    },
    {
      "cell_type": "markdown",
      "id": "146cf8eb-c517-4cd4-aa91-0e818fed7651",
      "metadata": {
        "id": "146cf8eb-c517-4cd4-aa91-0e818fed7651"
      },
      "source": [
        "- 底层实现本质上仍然是相同的查找机制："
      ]
    },
    {
      "cell_type": "markdown",
      "id": "b392eb43-0bda-4821-b446-b8dcbee8ae00",
      "metadata": {
        "id": "b392eb43-0bda-4821-b446-b8dcbee8ae00"
      },
      "source": [
        "<img src=\"https://sebastianraschka.com/images/LLMs-from-scratch-images/bonus/embeddings-and-linear-layers/3.png\" width=\"450px\">"
      ]
    },
    {
      "cell_type": "markdown",
      "id": "f0fe863b-d6a3-48f3-ace5-09ecd0eb7b59",
      "metadata": {
        "id": "f0fe863b-d6a3-48f3-ace5-09ecd0eb7b59"
      },
      "source": [
        "<br>\n",
        "&nbsp;\n",
        "\n",
        "## Using nn.Linear"
      ]
    },
    {
      "cell_type": "markdown",
      "id": "138de6a4-2689-4c1f-96af-7899b2d82a4e",
      "metadata": {
        "id": "138de6a4-2689-4c1f-96af-7899b2d82a4e"
      },
      "source": [
        "- 现在，我们将演示上面的嵌入层与PyTorch中`nn.Linear`层在one-hot编码表示上的效果完全相同。\n",
        "- 首先，我们将token ID转换为独热编码表示："
      ]
    },
    {
      "cell_type": "code",
      "execution_count": 8,
      "id": "b5bb56cf-bc73-41ab-b107-91a43f77bdba",
      "metadata": {
        "colab": {
          "base_uri": "https://localhost:8080/"
        },
        "id": "b5bb56cf-bc73-41ab-b107-91a43f77bdba",
        "outputId": "1b1c4c65-097c-4f9a-e2de-06c056a41760"
      },
      "outputs": [
        {
          "output_type": "execute_result",
          "data": {
            "text/plain": [
              "tensor([[0, 0, 1, 0],\n",
              "        [0, 0, 0, 1],\n",
              "        [0, 1, 0, 0]])"
            ]
          },
          "metadata": {},
          "execution_count": 8
        }
      ],
      "source": [
        "onehot = torch.nn.functional.one_hot(idx)\n",
        "onehot"
      ]
    },
    {
      "cell_type": "markdown",
      "id": "aa45dfdf-fb26-4514-a176-75224f5f179b",
      "metadata": {
        "id": "aa45dfdf-fb26-4514-a176-75224f5f179b"
      },
      "source": [
        "- 接下来，我们初始化一个`Linear`层，它执行矩阵乘法$X W^\\top$："
      ]
    },
    {
      "cell_type": "code",
      "execution_count": 9,
      "id": "ae04c1ed-242e-4dd7-b8f7-4b7e4caae383",
      "metadata": {
        "colab": {
          "base_uri": "https://localhost:8080/"
        },
        "id": "ae04c1ed-242e-4dd7-b8f7-4b7e4caae383",
        "outputId": "04aa5dbc-b7d1-44a6-b2b5-c0f3d7fb2478"
      },
      "outputs": [
        {
          "output_type": "execute_result",
          "data": {
            "text/plain": [
              "Parameter containing:\n",
              "tensor([[-0.2039,  0.0166, -0.2483,  0.1886],\n",
              "        [-0.4260,  0.3665, -0.3634, -0.3975],\n",
              "        [-0.3159,  0.2264, -0.1847,  0.1871],\n",
              "        [-0.4244, -0.3034, -0.1836, -0.0983],\n",
              "        [-0.3814,  0.3274, -0.1179,  0.1605]], requires_grad=True)"
            ]
          },
          "metadata": {},
          "execution_count": 9
        }
      ],
      "source": [
        "torch.manual_seed(123)\n",
        "linear = torch.nn.Linear(num_idx, out_dim, bias=False)\n",
        "linear.weight"
      ]
    },
    {
      "cell_type": "markdown",
      "source": [
        "此代码片段初始化一个线性层并显示其权重：\n",
        "\n",
        "*   `torch.manual_seed(123)`：设置 PyTorch 的随机种子。这确保了线性层权重的初始化是可重现的。\n",
        "*   `linear = torch.nn.Linear(num_idx, out_dim, bias=False)`：创建一个线性层。\n",
        "    *   `num_idx`：输入特征的数量，由最大 token ID + 1 确定。\n",
        "    *   `out_dim`：输出特征的数量（期望的嵌入维度）。\n",
        "    *   `bias=False`：表示该层不应学习偏差项。这样做是为了与嵌入层进行更直接的比较。\n",
        "*   `linear.weight`：访问并显示线性层的权重矩阵。此矩阵使用小的随机值初始化。"
      ],
      "metadata": {
        "id": "A9qz9G8Gt3Nl"
      },
      "id": "A9qz9G8Gt3Nl"
    },
    {
      "cell_type": "markdown",
      "id": "63efb98e-5cc4-4e8d-9fe6-ef0ad29ae2d7",
      "metadata": {
        "id": "63efb98e-5cc4-4e8d-9fe6-ef0ad29ae2d7"
      },
      "source": [
        "- PyTorch中的线性层也是用小的随机权重进行初始化的\n",
        "- 为了与上面的`Embedding`层进行直接对比，我们需要使用相同的小随机权重，这就是为什么我们在这里对他们重新赋值："
      ]
    },
    {
      "cell_type": "code",
      "execution_count": 10,
      "id": "a3b90d69-761c-486e-bd19-b38a2988fe62",
      "metadata": {
        "id": "a3b90d69-761c-486e-bd19-b38a2988fe62"
      },
      "outputs": [],
      "source": [
        "linear.weight = torch.nn.Parameter(embedding.weight.T)"
      ]
    },
    {
      "cell_type": "markdown",
      "source": [
        "此代码将 `embedding.weight.T`（来自 `nn.Embedding` 层的权重的转置）赋值给 `linear.weight`（来自 `nn.Linear` 层的权重）。`torch.nn.Parameter()` 用于将张量标记为模型的参数，以便在训练期间可以对其进行优化。\n",
        "\n",
        "这样做是为了确保 `nn.Linear` 层使用与 `nn.Embedding` 层**转置后**完全相同的权重进行初始化。这是因为 `nn.Embedding` 层在内部执行查找操作，而 `nn.Linear` 层执行矩阵乘法 $XW^\\top$。为了使这两者等价，`linear` 层的权重 $W$ 需要是 `embedding` 层权重的转置。这允许我们直接比较在独热编码输入上使用 `nn.Linear` 的结果与在原始 token ID 上使用 `nn.Embedding` 的结果，证明它们是等效的。"
      ],
      "metadata": {
        "id": "HqWCXQuQuRvT"
      },
      "id": "HqWCXQuQuRvT"
    },
    {
      "cell_type": "markdown",
      "id": "9116482d-f1f9-45e2-9bf3-7ef5e9003898",
      "metadata": {
        "id": "9116482d-f1f9-45e2-9bf3-7ef5e9003898"
      },
      "source": [
        "- 现在，我们可以在输入的one-hot编码表示上使用线性层："
      ]
    },
    {
      "cell_type": "code",
      "execution_count": 11,
      "id": "90d2b0dd-9f1d-4c0f-bb16-1f6ce6b8ac2c",
      "metadata": {
        "colab": {
          "base_uri": "https://localhost:8080/"
        },
        "id": "90d2b0dd-9f1d-4c0f-bb16-1f6ce6b8ac2c",
        "outputId": "e680579c-d471-41c7-8290-15f8ade5ba5c"
      },
      "outputs": [
        {
          "output_type": "execute_result",
          "data": {
            "text/plain": [
              "tensor([[ 0.6957, -1.8061, -1.1589,  0.3255, -0.6315],\n",
              "        [-2.8400, -0.7849, -1.4096, -0.4076,  0.7953],\n",
              "        [ 1.3010,  1.2753, -0.2010, -0.1606, -0.4015]], grad_fn=<MmBackward0>)"
            ]
          },
          "metadata": {},
          "execution_count": 11
        }
      ],
      "source": [
        "linear(onehot.float())"
      ]
    },
    {
      "cell_type": "markdown",
      "id": "f6204bc8-92e2-4546-9cda-574fe1360fa2",
      "metadata": {
        "id": "f6204bc8-92e2-4546-9cda-574fe1360fa2"
      },
      "source": [
        "- 如我们所见，这与使用嵌入层时得到的结果完全相同："
      ]
    },
    {
      "cell_type": "code",
      "execution_count": 12,
      "id": "2b057649-3176-4a54-b58c-fd8fbf818c61",
      "metadata": {
        "colab": {
          "base_uri": "https://localhost:8080/"
        },
        "id": "2b057649-3176-4a54-b58c-fd8fbf818c61",
        "outputId": "b1fe20cf-103b-4f35-eb9f-ca5505a43fec"
      },
      "outputs": [
        {
          "output_type": "execute_result",
          "data": {
            "text/plain": [
              "tensor([[ 0.6957, -1.8061, -1.1589,  0.3255, -0.6315],\n",
              "        [-2.8400, -0.7849, -1.4096, -0.4076,  0.7953],\n",
              "        [ 1.3010,  1.2753, -0.2010, -0.1606, -0.4015]],\n",
              "       grad_fn=<EmbeddingBackward0>)"
            ]
          },
          "metadata": {},
          "execution_count": 12
        }
      ],
      "source": [
        "embedding(idx)"
      ]
    },
    {
      "cell_type": "markdown",
      "id": "0e447639-8952-460e-8c8f-cf9e23c368c9",
      "metadata": {
        "id": "0e447639-8952-460e-8c8f-cf9e23c368c9"
      },
      "source": [
        "- 实际上，底层对第一个训练样本的token ID进行的计算如下："
      ]
    },
    {
      "cell_type": "markdown",
      "id": "1830eccf-a707-4753-a24a-9b103f55594a",
      "metadata": {
        "id": "1830eccf-a707-4753-a24a-9b103f55594a"
      },
      "source": [
        "<img src=\"https://sebastianraschka.com/images/LLMs-from-scratch-images/bonus/embeddings-and-linear-layers/4.png\" width=\"450px\">"
      ]
    },
    {
      "cell_type": "markdown",
      "id": "9ce5211a-14e6-46aa-a3a8-14609f086e97",
      "metadata": {
        "id": "9ce5211a-14e6-46aa-a3a8-14609f086e97"
      },
      "source": [
        "- 对于第二个训练样本的token ID："
      ]
    },
    {
      "cell_type": "markdown",
      "id": "173f6026-a461-44da-b9c5-f571f8ec8bf3",
      "metadata": {
        "id": "173f6026-a461-44da-b9c5-f571f8ec8bf3"
      },
      "source": [
        "<img src=\"https://sebastianraschka.com/images/LLMs-from-scratch-images/bonus/embeddings-and-linear-layers/5.png\" width=\"450px\">"
      ]
    },
    {
      "cell_type": "markdown",
      "id": "e2608049-f5d1-49a9-a14b-82695fc32e6a",
      "metadata": {
        "id": "e2608049-f5d1-49a9-a14b-82695fc32e6a"
      },
      "source": [
        "- 由于每个one-hot编码行中只有一个索引为1，其余的索引都为0（这是设计的结果），因此这个矩阵乘法实际上与one-hot元素的查找相同。\n",
        "- 在one-hot编码上使用矩阵乘法与嵌入层的查找等价，但当处理较大的嵌入矩阵时，这种做法可能效率较低，因为存在大量无意义的零乘法。"
      ]
    }
  ],
  "metadata": {
    "kernelspec": {
      "display_name": "Python 3 (ipykernel)",
      "language": "python",
      "name": "python3"
    },
    "language_info": {
      "codemirror_mode": {
        "name": "ipython",
        "version": 3
      },
      "file_extension": ".py",
      "mimetype": "text/x-python",
      "name": "python",
      "nbconvert_exporter": "python",
      "pygments_lexer": "ipython3",
      "version": "3.12.6"
    },
    "colab": {
      "provenance": []
    }
  },
  "nbformat": 4,
  "nbformat_minor": 5
}